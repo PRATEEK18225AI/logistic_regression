{
 "cells": [
  {
   "cell_type": "code",
   "execution_count": 1,
   "metadata": {
    "id": "udSH08C2PIaR"
   },
   "outputs": [],
   "source": [
    "import numpy as np\n",
    "import pandas as pd\n",
    "from matplotlib import pyplot as plt\n",
    "from sklearn.model_selection import train_test_split\n",
    "from sklearn import metrics"
   ]
  },
  {
   "cell_type": "markdown",
   "metadata": {
    "id": "-Kfk2uuuN1D_"
   },
   "source": [
    "### Implementing Logistic Regression Class"
   ]
  },
  {
   "cell_type": "code",
   "execution_count": 2,
   "metadata": {},
   "outputs": [],
   "source": [
    "def sigmoid(y):\n",
    "    return 1/(1+np.exp(-y))"
   ]
  },
  {
   "cell_type": "code",
   "execution_count": 24,
   "metadata": {
    "id": "9Ed56eY2i_zz"
   },
   "outputs": [],
   "source": [
    "class LogisticRegression:\n",
    "    def __init__(self):\n",
    "        self.weights=None\n",
    "        self.bias=None\n",
    "\n",
    "    def nlloss(self,y,y_pred):\n",
    "        '''calculate negative log liklihood error'''\n",
    "        lh= np.dot(y,np.log(y_pred))+np.dot(1-y,np.log(1-y_pred))\n",
    "        lh=(-1)*(np.sum(lh))\n",
    "        return lh/y.shape[0]\n",
    "    \n",
    "    def accuracy(self,y,y_pred):\n",
    "        ''' calculate correct prediction out of total'''\n",
    "        y_pred=np.array([1 if i>=0.5 else 0 for i in y_pred])\n",
    "        return (y==y_pred).sum()/y.shape[0]\n",
    "\n",
    "    def gradients(self,X,y,y_pred):\n",
    "        grad_w=np.dot(X.T,(y_pred-y))/X.shape[0]\n",
    "        grad_b=np.sum(y_pred-y)/X.shape[0]\n",
    "        return (grad_w,grad_b)\n",
    "\n",
    "    def gradient_descent(self,grad_w,grad_b,lr):\n",
    "        self.weights-=(lr*grad_w)\n",
    "        self.bias-=(lr*grad_b)\n",
    "\n",
    "    def train(self,X,y,lr=0.001,epochs=100):\n",
    "        '''X: data features an (m,n) shape numpy array,\n",
    "              where m= number of examples, n= number of features\n",
    "           y: data label a (n,1) shaped vector\n",
    "           lr: learning rate\n",
    "           epochs: number of times training loop should run'''\n",
    "        self.weights=np.zeros(X.shape[1])\n",
    "        self.bias=0\n",
    "        losses=[]\n",
    "        scores=[]\n",
    "        for i in range(epochs):\n",
    "            y_pred=sigmoid(np.dot(X,self.weights)+self.bias)\n",
    "            loss=self.nlloss(y,y_pred)\n",
    "            score=self.accuracy(y,y_pred)\n",
    "            losses.append(loss)\n",
    "            scores.append(score)\n",
    "            grad_w,grad_b=self.gradients(X,y,y_pred)\n",
    "            self.gradient_descent(grad_w,grad_b,lr)\n",
    "            #print(\"loss={} accuracy={}\".format(loss,score))\n",
    "        plt.plot(losses,label='loss',c='r')\n",
    "        plt.legend()\n",
    "        plt.show()\n",
    "        plt.plot(scores,label='accuracy',c='b')\n",
    "        plt.legend()\n",
    "        plt.show()\n",
    "\n",
    "    def predict(self,X_test):\n",
    "        ''' X_test: test features m,n dimesional numpy array'''\n",
    "        prob=sigmoid(np.dot(X_test,self.weights)+self.bias)\n",
    "        return np.array([1 if i>=0.5 else 0 for i in prob]),prob"
   ]
  },
  {
   "cell_type": "markdown",
   "metadata": {
    "id": "qSV-ZjTVzE25"
   },
   "source": [
    "### Loading Dataset"
   ]
  },
  {
   "cell_type": "code",
   "execution_count": 4,
   "metadata": {
    "id": "ULDej0oCigHH"
   },
   "outputs": [
    {
     "data": {
      "text/html": [
       "<div>\n",
       "<style scoped>\n",
       "    .dataframe tbody tr th:only-of-type {\n",
       "        vertical-align: middle;\n",
       "    }\n",
       "\n",
       "    .dataframe tbody tr th {\n",
       "        vertical-align: top;\n",
       "    }\n",
       "\n",
       "    .dataframe thead th {\n",
       "        text-align: right;\n",
       "    }\n",
       "</style>\n",
       "<table border=\"1\" class=\"dataframe\">\n",
       "  <thead>\n",
       "    <tr style=\"text-align: right;\">\n",
       "      <th></th>\n",
       "      <th>SepalLengthCm</th>\n",
       "      <th>SepalWidthCm</th>\n",
       "      <th>PetalLengthCm</th>\n",
       "      <th>PetalWidthCm</th>\n",
       "      <th>Species</th>\n",
       "    </tr>\n",
       "  </thead>\n",
       "  <tbody>\n",
       "    <tr>\n",
       "      <td>0</td>\n",
       "      <td>5.1</td>\n",
       "      <td>3.5</td>\n",
       "      <td>1.4</td>\n",
       "      <td>0.2</td>\n",
       "      <td>Iris-setosa</td>\n",
       "    </tr>\n",
       "    <tr>\n",
       "      <td>1</td>\n",
       "      <td>4.9</td>\n",
       "      <td>3.0</td>\n",
       "      <td>1.4</td>\n",
       "      <td>0.2</td>\n",
       "      <td>Iris-setosa</td>\n",
       "    </tr>\n",
       "    <tr>\n",
       "      <td>2</td>\n",
       "      <td>4.7</td>\n",
       "      <td>3.2</td>\n",
       "      <td>1.3</td>\n",
       "      <td>0.2</td>\n",
       "      <td>Iris-setosa</td>\n",
       "    </tr>\n",
       "    <tr>\n",
       "      <td>3</td>\n",
       "      <td>4.6</td>\n",
       "      <td>3.1</td>\n",
       "      <td>1.5</td>\n",
       "      <td>0.2</td>\n",
       "      <td>Iris-setosa</td>\n",
       "    </tr>\n",
       "    <tr>\n",
       "      <td>4</td>\n",
       "      <td>5.0</td>\n",
       "      <td>3.6</td>\n",
       "      <td>1.4</td>\n",
       "      <td>0.2</td>\n",
       "      <td>Iris-setosa</td>\n",
       "    </tr>\n",
       "  </tbody>\n",
       "</table>\n",
       "</div>"
      ],
      "text/plain": [
       "   SepalLengthCm  SepalWidthCm  PetalLengthCm  PetalWidthCm      Species\n",
       "0            5.1           3.5            1.4           0.2  Iris-setosa\n",
       "1            4.9           3.0            1.4           0.2  Iris-setosa\n",
       "2            4.7           3.2            1.3           0.2  Iris-setosa\n",
       "3            4.6           3.1            1.5           0.2  Iris-setosa\n",
       "4            5.0           3.6            1.4           0.2  Iris-setosa"
      ]
     },
     "execution_count": 4,
     "metadata": {},
     "output_type": "execute_result"
    }
   ],
   "source": [
    "df=pd.read_csv('Iris.csv').drop(columns=['Id'])\n",
    "df.head()"
   ]
  },
  {
   "cell_type": "code",
   "execution_count": 5,
   "metadata": {},
   "outputs": [
    {
     "data": {
      "text/plain": [
       "Iris-setosa        50\n",
       "Iris-versicolor    50\n",
       "Iris-virginica     50\n",
       "Name: Species, dtype: int64"
      ]
     },
     "execution_count": 5,
     "metadata": {},
     "output_type": "execute_result"
    }
   ],
   "source": [
    "df['Species'].value_counts()"
   ]
  },
  {
   "cell_type": "code",
   "execution_count": 6,
   "metadata": {},
   "outputs": [],
   "source": [
    "def lblIdx(target):\n",
    "    labels=np.unique(target)\n",
    "    return {i:n for n,i in enumerate(labels)}"
   ]
  },
  {
   "cell_type": "code",
   "execution_count": 8,
   "metadata": {},
   "outputs": [
    {
     "data": {
      "text/plain": [
       "{'Iris-setosa': 0, 'Iris-versicolor': 1, 'Iris-virginica': 2}"
      ]
     },
     "execution_count": 8,
     "metadata": {},
     "output_type": "execute_result"
    }
   ],
   "source": [
    "label_to_index=lblIdx(df['Species'].values)\n",
    "label_to_index"
   ]
  },
  {
   "cell_type": "code",
   "execution_count": 22,
   "metadata": {},
   "outputs": [
    {
     "data": {
      "text/plain": [
       "{0: 'Iris-setosa', 1: 'Iris-versicolor', 2: 'Iris-virginica'}"
      ]
     },
     "execution_count": 22,
     "metadata": {},
     "output_type": "execute_result"
    }
   ],
   "source": [
    "index_to_label={v:k for k,v in label_to_index.items()}\n",
    "index_to_label"
   ]
  },
  {
   "cell_type": "code",
   "execution_count": 10,
   "metadata": {},
   "outputs": [],
   "source": [
    "X,y= df.loc[:,df.columns[:-1]].values,df['Species'].values"
   ]
  },
  {
   "cell_type": "markdown",
   "metadata": {
    "id": "JAZfNzdF05ei"
   },
   "source": [
    "### train test split"
   ]
  },
  {
   "cell_type": "code",
   "execution_count": 11,
   "metadata": {
    "id": "-q_4Lav7zX0o"
   },
   "outputs": [],
   "source": [
    "X_train,X_test,y_train,y_test=train_test_split(X,y,test_size=1/5,random_state=42)"
   ]
  },
  {
   "cell_type": "code",
   "execution_count": 12,
   "metadata": {
    "colab": {
     "base_uri": "https://localhost:8080/",
     "height": 35
    },
    "id": "8eFqIuBL0nrq",
    "outputId": "10dbc4a2-ce19-4122-da2a-f4e13c103eb5"
   },
   "outputs": [
    {
     "name": "stdout",
     "output_type": "stream",
     "text": [
      "120 30\n"
     ]
    }
   ],
   "source": [
    "print(len(X_train),len(X_test))"
   ]
  },
  {
   "cell_type": "markdown",
   "metadata": {
    "id": "DEu6Oib409Ut"
   },
   "source": [
    "### normalization"
   ]
  },
  {
   "cell_type": "code",
   "execution_count": 13,
   "metadata": {
    "id": "vSLxbNBk0rnn"
   },
   "outputs": [],
   "source": [
    "mean=X.mean(axis=0)\n",
    "std=X.std(axis=0)"
   ]
  },
  {
   "cell_type": "code",
   "execution_count": 14,
   "metadata": {
    "id": "t1FjcNBW1DB9"
   },
   "outputs": [],
   "source": [
    "X_train=(X_train-mean)/std\n",
    "X_test=(X_test-mean)/std"
   ]
  },
  {
   "cell_type": "markdown",
   "metadata": {
    "id": "v8MJmcxY1X1-"
   },
   "source": [
    "### Given Problem is a multiclass classification we will use One vs Rest algorithm"
   ]
  },
  {
   "cell_type": "code",
   "execution_count": 25,
   "metadata": {
    "id": "FId4La641Xe2"
   },
   "outputs": [
    {
     "name": "stdout",
     "output_type": "stream",
     "text": [
      "Training Iris-setosa vs Rest!!\n"
     ]
    },
    {
     "data": {
      "image/png": "[encoded data removed]",
      "text/plain": [
       "<Figure size 432x288 with 1 Axes>"
      ]
     },
     "metadata": {
      "needs_background": "light"
     },
     "output_type": "display_data"
    },
    {
     "data": {
      "image/png": "[encoded data removed]",
      "text/plain": [
       "<Figure size 432x288 with 1 Axes>"
      ]
     },
     "metadata": {
      "needs_background": "light"
     },
     "output_type": "display_data"
    },
    {
     "name": "stdout",
     "output_type": "stream",
     "text": [
      "Training Iris-versicolor vs Rest!!\n"
     ]
    },
    {
     "data": {
      "image/png": "[encoded data removed]",
      "text/plain": [
       "<Figure size 432x288 with 1 Axes>"
      ]
     },
     "metadata": {
      "needs_background": "light"
     },
     "output_type": "display_data"
    },
    {
     "data": {
      "image/png": "[encoded data removed]",
      "text/plain": [
       "<Figure size 432x288 with 1 Axes>"
      ]
     },
     "metadata": {
      "needs_background": "light"
     },
     "output_type": "display_data"
    },
    {
     "name": "stdout",
     "output_type": "stream",
     "text": [
      "Training Iris-virginica vs Rest!!\n"
     ]
    },
    {
     "data": {
      "image/png": "[encoded data removed]",
      "text/plain": [
       "<Figure size 432x288 with 1 Axes>"
      ]
     },
     "metadata": {
      "needs_background": "light"
     },
     "output_type": "display_data"
    },
    {
     "data": {
      "image/png": "[encoded data removed]",
      "text/plain": [
       "<Figure size 432x288 with 1 Axes>"
      ]
     },
     "metadata": {
      "needs_background": "light"
     },
     "output_type": "display_data"
    }
   ],
   "source": [
    "epochs=1000\n",
    "model={}\n",
    "for i in label_to_index:\n",
    "    model[i]=LogisticRegression()\n",
    "    y_temp=np.array([1 if j==i else 0 for j in y_train])\n",
    "    print(f'Training {i} vs Rest!!')\n",
    "    model[i].train(X_train,y_temp,lr=0.03,epochs=epochs)"
   ]
  },
  {
   "cell_type": "code",
   "execution_count": 33,
   "metadata": {
    "id": "xPvvQWUM3PEQ"
   },
   "outputs": [],
   "source": [
    "def evaluate(X,y,model):\n",
    "    probabilities=[]\n",
    "    for i in label_to_index:\n",
    "        _,prob=model[i].predict(X)\n",
    "        probabilities.append(prob)\n",
    "    predictions=np.array([index_to_label[j] for j in np.array(probabilities).argmax(axis=0)])\n",
    "    acc=(y==predictions).sum()/y.shape[0]\n",
    "    results={\n",
    "        'pred':predictions,\n",
    "        'acc': acc,\n",
    "        'metrics': metrics.classification_report(y,predictions)\n",
    "    }\n",
    "    mat=metrics.confusion_matrix(y,predictions)\n",
    "    col=col=np.unique(y)\n",
    "    data={col[n]+'-Pred':mat.T[n] for n in range(len(col))}\n",
    "    cfm=pd.DataFrame(data)\n",
    "    cfm.index=[i+'-Real' for i in col]\n",
    "    results['confusion_matrix']=cfm\n",
    "    return results"
   ]
  },
  {
   "cell_type": "code",
   "execution_count": 34,
   "metadata": {},
   "outputs": [],
   "source": [
    "results=evaluate(X_test,y_test,model)"
   ]
  },
  {
   "cell_type": "code",
   "execution_count": null,
   "metadata": {},
   "outputs": [],
   "source": []
  }
 ],
 "metadata": {
  "colab": {
   "collapsed_sections": [],
   "name": "Linear_Regression_boston_houseprice.ipynb",
   "provenance": []
  },
  "kernelspec": {
   "display_name": "Python 3",
   "language": "python",
   "name": "python3"
  },
  "language_info": {
   "codemirror_mode": {
    "name": "ipython",
    "version": 3
   },
   "file_extension": ".py",
   "mimetype": "text/x-python",
   "name": "python",
   "nbconvert_exporter": "python",
   "pygments_lexer": "ipython3",
   "version": "3.7.4"
  }
 },
 "nbformat": 4,
 "nbformat_minor": 1
}
